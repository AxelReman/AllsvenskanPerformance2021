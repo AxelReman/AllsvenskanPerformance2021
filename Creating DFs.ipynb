{
 "cells": [
  {
   "cell_type": "code",
   "execution_count": null,
   "metadata": {},
   "outputs": [],
   "source": [
    "import pandas as pd"
   ]
  },
  {
   "cell_type": "code",
   "execution_count": null,
   "metadata": {},
   "outputs": [],
   "source": [
    "path_games = '/Users/axelreman/Documents/Nod Coding Bootcamp/Projects/Project_6_Finalproject/Allsvenskan_2021'\n",
    "path_player_data = '/Users/axelreman/Documents/Nod Coding Bootcamp/Projects/Project_6_Finalproject/Allsvenskan_2021/Players'\n",
    "path = '/Users/axelreman/Documents/Nod Coding Bootcamp/Projects/Project_6_Finalproject/'\n",
    "\n",
    "df = pd.read_json(f'{path_games}/allsvenskan_data.json')\n",
    "player_df = pd.read_json(f'{path_player_data}/Allsvenskan, 2021-players.json')\n",
    "player_actions_df = pd.read_csv(f'{path}player_actions_data.csv')\n",
    "player_positions_df = pd.read_csv(f'{path}player_position_data.csv')\n"
   ]
  },
  {
   "cell_type": "code",
   "execution_count": null,
   "metadata": {},
   "outputs": [],
   "source": [
    "# Create an empty list to store the extracted dictionaries\n",
    "dict_list = []\n",
    "\n",
    "# Loop over each row in the 'Column1'\n",
    "for index, row in df.iterrows():\n",
    "    # Extract the list of dictionaries from the current row\n",
    "    nested_dicts = row['events']\n",
    "    \n",
    "    # Iterate over each dictionary in the list\n",
    "    for nested_dict in nested_dicts:\n",
    "        # Filter the nested dictionary based on the desired keys\n",
    "        filtered_dict = {key: nested_dict.get(key) for key in ['xdest', 'xpos', 'header', 'next_player', 'game_time',\n",
    "                                                               'ypos', 'xg', 'ydest', 'player', 'penalty', 'end_time',\n",
    "                                                               'team', 'action', 'xp', 'throw_in', 'external_id',\n",
    "                                                               'start_time', 'xt']}\n",
    "        \n",
    "        # Append the filtered dictionary to the list\n",
    "        dict_list.append(filtered_dict)\n",
    "\n",
    "# Convert the list of dictionaries to a dataframe\n",
    "events_df = pd.DataFrame(dict_list)\n",
    "\n",
    "# Save the dataframe to a CSV file\n",
    "events_df.to_csv('all_events_data.csv', index=False)\n",
    "\n",
    "print(\"Data saved successfully.\")\n",
    "#"
   ]
  },
  {
   "cell_type": "code",
   "execution_count": null,
   "metadata": {},
   "outputs": [],
   "source": [
    "# Create a pivot table using value counts\n",
    "player_actions_df = events_df.pivot_table(index='player', columns='action', aggfunc='size', fill_value=0)\n",
    "\n",
    "# Reset the index to make 'player' a regular column\n",
    "player_actions_df = player_actions_df.reset_index()\n",
    "\n",
    "player_actions_df.to_csv('player_actions_data.csv', index=False)"
   ]
  },
  {
   "cell_type": "code",
   "execution_count": null,
   "metadata": {},
   "outputs": [],
   "source": [
    "from selenium import webdriver\n",
    "from selenium.webdriver.common.by import By\n",
    "from selenium.webdriver.support.ui import WebDriverWait\n",
    "from selenium.webdriver.support import expected_conditions as EC\n",
    "import pandas as pd\n",
    "import numpy as np\n",
    "import pandas as pd\n",
    "import regex as re\n",
    "\n",
    "# Create a web driver instance\n",
    "driver = webdriver.Chrome()\n",
    "\n",
    "# Go to the webpage containing the data\n",
    "driver.get(\"https://fbref.com/en/comps/29/2021/stats/2021-Allsvenskan-Stats\")\n",
    "\n",
    "# Wait for the button to appear and click it\n",
    "WebDriverWait(driver, 10).until(EC.element_to_be_clickable((By.XPATH, '/html/body/div[1]/div/div/div/div[2]/div/button[2]'))).click()\n",
    "\n",
    "# Find the header elements using the XPATHs\n",
    "header_elements = driver.find_elements(By.XPATH, '//*[@id=\"stats_standard\"]/thead/tr[2]/th')\n",
    "\n",
    "# Extract the header text for the first 11 elements\n",
    "columns = [element.text for element in header_elements[:11]]\n",
    "\n",
    "# Find the table body element using the XPath\n",
    "table_body = driver.find_element(By.XPATH, '//*[@id=\"stats_standard\"]/tbody')\n",
    "\n",
    "# Find all the rows in the table body\n",
    "rows = table_body.find_elements(By.TAG_NAME, 'tr')\n",
    "\n",
    "# Initialize an empty list to store the row data\n",
    "data = []\n",
    "\n",
    "# Loop through each row and extract the text from the first 11 cells\n",
    "for row in rows:\n",
    "    # Find all the cells in the row\n",
    "    cells = row.find_elements(By.TAG_NAME, 'td')\n",
    "    # Extract the text from the first 11 cells and store in a row_data list\n",
    "    row_data = [cell.text for cell in cells[:11]]\n",
    "    # Append the row_data list to the data list\n",
    "    data.append(row_data)\n",
    "\n",
    "# Create a dataframe\n",
    "player_positions_df = pd.DataFrame(data, columns=columns)\n",
    "\n",
    "# Print the dataframe\n",
    "print(player_positions_df)\n",
    "\n",
    "# Close the web driver\n",
    "driver.quit()\n",
    "\n",
    "player_positions_df.to_csv('player_position_data.csv', index=False)"
   ]
  }
 ],
 "metadata": {
  "language_info": {
   "name": "python"
  },
  "orig_nbformat": 4
 },
 "nbformat": 4,
 "nbformat_minor": 2
}
